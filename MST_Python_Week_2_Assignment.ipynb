{
  "nbformat": 4,
  "nbformat_minor": 0,
  "metadata": {
    "colab": {
      "provenance": []
    },
    "kernelspec": {
      "name": "python3",
      "display_name": "Python 3"
    },
    "language_info": {
      "name": "python"
    }
  },
  "cells": [
    {
      "cell_type": "code",
      "execution_count": null,
      "metadata": {
        "id": "eAGsjIGmaucT"
      },
      "outputs": [],
      "source": [
        "# 1.Write an interactive Python Program to implement following “Guess Game”\n",
        "# i. Think of a number between 1 and 10 and store it in a variable called \"secretNumber\".\n",
        "# ii. Ask the user to enter a number between 1 and 10 and store it in a variable called \"guess\".\n",
        "# iii. Use control statements (if-else) to check if the guess is correct, higher, or lower than the secret number.\n",
        "# iv. Display appropriate messages to the user based on their guess:\n",
        "# • If the guess is correct, display \"Congratulations! You guessed the number correctly!\"\n",
        "# • If the guess is higher than the secret number, display \"Too high! Try again.\"\n",
        "# • If the guess is lower than the secret number, display \"Too low! Try again.\"\n",
        "# v. Allow the user to keep guessing until they guess the correct number."
      ]
    },
    {
      "cell_type": "markdown",
      "source": [],
      "metadata": {
        "id": "gjJWv_w_bwwa"
      }
    },
    {
      "cell_type": "code",
      "source": [
        "import random\n",
        "\n",
        "def guess_game():\n",
        "    secretNumber = random.randint(1, 10)\n",
        "    print(\"Welcome to the Guess Game!\")\n",
        "\n",
        "    while True:\n",
        "        guess = int(input(\"Guess a number between 1 and 10: \"))\n",
        "        if guess == secretNumber:\n",
        "            print(\"Congratulations! You guessed the number correctly!\")\n",
        "            break\n",
        "        elif guess > secretNumber:\n",
        "            print(\"Too high! Try again.\")\n",
        "        elif guess < secretNumber:\n",
        "            print(\"Too low! Try again.\")\n"
      ],
      "metadata": {
        "id": "Q1Il3TAMbx3r"
      },
      "execution_count": 9,
      "outputs": []
    },
    {
      "cell_type": "code",
      "source": [
        "guess_game()\n"
      ],
      "metadata": {
        "colab": {
          "base_uri": "https://localhost:8080/"
        },
        "id": "3LGI1_98cYDP",
        "outputId": "823f015b-0d4f-4dde-9fef-05731821b055"
      },
      "execution_count": 10,
      "outputs": [
        {
          "output_type": "stream",
          "name": "stdout",
          "text": [
            "Welcome to the Guess Game!\n",
            "Guess a number between 1 and 10: 3\n",
            "Too low! Try again.\n",
            "Guess a number between 1 and 10: 9\n",
            "Too high! Try again.\n",
            "Guess a number between 1 and 10: 5\n",
            "Too low! Try again.\n",
            "Guess a number between 1 and 10: 7\n",
            "Congratulations! You guessed the number correctly!\n"
          ]
        }
      ]
    },
    {
      "cell_type": "code",
      "source": [
        "# 2. Write a program to find and print the Factorial of this number. The Factorial of a positive integer N refers to the product of all number in the range from 1 to N.\n"
      ],
      "metadata": {
        "id": "llRVwAjoeP39"
      },
      "execution_count": null,
      "outputs": []
    },
    {
      "cell_type": "code",
      "source": [
        "def factorial(n):\n",
        "    if n == 0 or n == 1:\n",
        "        return 1\n",
        "    else:\n",
        "        result = 1\n",
        "        for i in range(2, n + 1):\n",
        "            result *= i\n",
        "        return result\n",
        "\n",
        "num = int(input(\"Enter an integer: \"))\n",
        "print(f\"The factorial of {num} is {factorial(num)}\")"
      ],
      "metadata": {
        "colab": {
          "base_uri": "https://localhost:8080/"
        },
        "id": "zOmavch4e4zP",
        "outputId": "0c477580-9dfa-4d4c-d64f-8c24e831366d"
      },
      "execution_count": 11,
      "outputs": [
        {
          "output_type": "stream",
          "name": "stdout",
          "text": [
            "Enter an integer: 5\n",
            "The factorial of 5 is 120\n"
          ]
        }
      ]
    },
    {
      "cell_type": "code",
      "source": [
        "# • Roy wants to change his profile picture on Facebook. Now Facebook has some restriction over the dimension of picture that we can upload.\n",
        "# Minimum dimension of the picture can be L x L, where L is the length of the side of square. Now Roy has N photos of various dimensions.\n",
        "# Dimension of a photo is denoted as W x H where W - width of the photo and H - Height of the photo\n",
        "# • When any photo is uploaded following events may occur:\n",
        "# [1] If any of the width or height is less than L, user is prompted to upload another\n",
        "# one. Print \"UPLOAD ANOTHER\" in this case.\n",
        "# [2] If width and height, both are large enough and\n",
        "# (a) if the photo is already square then it is accepted. Print \"ACCEPTED\" in this\n",
        "# case.\n",
        "# (b) else user is prompted to crop it. Print \"CROP IT\" in this case.\n",
        "# Given L, N, W and H as input, write a program to print appropriate text as output."
      ],
      "metadata": {
        "id": "V97Ps1Y7jZyv"
      },
      "execution_count": null,
      "outputs": []
    },
    {
      "cell_type": "code",
      "source": [
        "def check_photo_dimensions(L, N, photos):\n",
        "    for i in range(N):\n",
        "        W, H = photos[i]\n",
        "        if W < L or H < L:\n",
        "            print(\"UPLOAD ANOTHER\")\n",
        "        elif W == H:\n",
        "            print(\"ACCEPTED\")\n",
        "        else:\n",
        "            print(\"CROP IT\")\n",
        "\n",
        "L = int(input(\"Enter the minimum dimension (L): \"))\n",
        "N = int(input(\"Enter the number of photos: \"))\n",
        "\n",
        "\n",
        "photos = []\n",
        "for _ in range(N):\n",
        "    W, H = map(int, input(\"Enter the width and height of photo: \").split())\n",
        "    photos.append((W, H))\n",
        "\n"
      ],
      "metadata": {
        "colab": {
          "base_uri": "https://localhost:8080/"
        },
        "id": "kT26DnJjgWEU",
        "outputId": "1a2993fb-dd2d-43df-8099-c4f079b1c307"
      },
      "execution_count": 25,
      "outputs": [
        {
          "name": "stdout",
          "output_type": "stream",
          "text": [
            "Enter the minimum dimension (L): 5\n",
            "Enter the number of photos: 1\n",
            "Enter the width and height of photo: 4 5\n"
          ]
        }
      ]
    },
    {
      "cell_type": "code",
      "source": [
        "check_photo_dimensions(L, N, photos)"
      ],
      "metadata": {
        "colab": {
          "base_uri": "https://localhost:8080/"
        },
        "id": "o70b_QEKiIKw",
        "outputId": "fd5f9b95-da1b-4e38-995d-e64f07bdd5ba"
      },
      "execution_count": 26,
      "outputs": [
        {
          "output_type": "stream",
          "name": "stdout",
          "text": [
            "UPLOAD ANOTHER\n"
          ]
        }
      ]
    }
  ]
}