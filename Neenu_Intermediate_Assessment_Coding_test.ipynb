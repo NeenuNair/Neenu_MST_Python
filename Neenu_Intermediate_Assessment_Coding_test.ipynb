{
  "nbformat": 4,
  "nbformat_minor": 0,
  "metadata": {
    "colab": {
      "provenance": []
    },
    "kernelspec": {
      "name": "python3",
      "display_name": "Python 3"
    },
    "language_info": {
      "name": "python"
    }
  },
  "cells": [
    {
      "cell_type": "code",
      "execution_count": 5,
      "metadata": {
        "id": "EZBfUIbLvx8G"
      },
      "outputs": [],
      "source": [
        "# 1 Write a python program to check if the entered string is palindrome or not.\n",
        "def is_palindrome(string):\n",
        "    string = string.lower()\n",
        "    if string == string[::-1]:\n",
        "        return \"palindrome\"\n",
        "    else:\n",
        "        return \"not palindrome\""
      ]
    },
    {
      "cell_type": "code",
      "source": [
        "is_palindrome('Malayalam')"
      ],
      "metadata": {
        "colab": {
          "base_uri": "https://localhost:8080/",
          "height": 35
        },
        "id": "aD86LAGvv7MP",
        "outputId": "4a7095a2-7a4c-4ab1-edbe-679a50d5541f"
      },
      "execution_count": 7,
      "outputs": [
        {
          "output_type": "execute_result",
          "data": {
            "text/plain": [
              "'palindrome'"
            ],
            "application/vnd.google.colaboratory.intrinsic+json": {
              "type": "string"
            }
          },
          "metadata": {},
          "execution_count": 7
        }
      ]
    },
    {
      "cell_type": "code",
      "source": [
        "is_palindrome('computer')"
      ],
      "metadata": {
        "colab": {
          "base_uri": "https://localhost:8080/",
          "height": 35
        },
        "id": "Fzyv2gfbwnL9",
        "outputId": "b2623f1d-8262-4bdc-9d14-ddc87971ed9b"
      },
      "execution_count": 4,
      "outputs": [
        {
          "output_type": "execute_result",
          "data": {
            "text/plain": [
              "'not palindrome'"
            ],
            "application/vnd.google.colaboratory.intrinsic+json": {
              "type": "string"
            }
          },
          "metadata": {},
          "execution_count": 4
        }
      ]
    },
    {
      "cell_type": "code",
      "source": [
        "# 2 Write a python program to check if the given number is divisible by 9\n",
        "\n",
        "def is_divisible_by_9(number):\n",
        "    if number % 9 == 0:\n",
        "        return \"divisible by 9\"\n",
        "    else:\n",
        "        return \"not divisible by 9\""
      ],
      "metadata": {
        "id": "oNW4YnZqxD2M"
      },
      "execution_count": 8,
      "outputs": []
    },
    {
      "cell_type": "code",
      "source": [
        "is_divisible_by_9(18)"
      ],
      "metadata": {
        "colab": {
          "base_uri": "https://localhost:8080/",
          "height": 35
        },
        "id": "DsGHvOvAxcxv",
        "outputId": "3e8b7061-d3b6-41c4-ef7a-3b8c7dc05668"
      },
      "execution_count": 10,
      "outputs": [
        {
          "output_type": "execute_result",
          "data": {
            "text/plain": [
              "'divisible by 9'"
            ],
            "application/vnd.google.colaboratory.intrinsic+json": {
              "type": "string"
            }
          },
          "metadata": {},
          "execution_count": 10
        }
      ]
    },
    {
      "cell_type": "code",
      "source": [
        "is_divisible_by_9(33)"
      ],
      "metadata": {
        "colab": {
          "base_uri": "https://localhost:8080/",
          "height": 35
        },
        "id": "k3dXWNCBxks0",
        "outputId": "7502c554-d2be-4bce-8135-15e6ae890bef"
      },
      "execution_count": 11,
      "outputs": [
        {
          "output_type": "execute_result",
          "data": {
            "text/plain": [
              "'not divisible by 9'"
            ],
            "application/vnd.google.colaboratory.intrinsic+json": {
              "type": "string"
            }
          },
          "metadata": {},
          "execution_count": 11
        }
      ]
    },
    {
      "cell_type": "code",
      "source": [
        "# 3 Write a python program to print odd numbers between 300 and 500\n",
        "for number in range(300, 501):\n",
        "    if number % 2 != 0:\n",
        "        print(number, end=\" \")"
      ],
      "metadata": {
        "colab": {
          "base_uri": "https://localhost:8080/"
        },
        "id": "GDSn-bMExp0v",
        "outputId": "f2ff3e4f-d198-43f3-8c65-d45542c32d0d"
      },
      "execution_count": 12,
      "outputs": [
        {
          "output_type": "stream",
          "name": "stdout",
          "text": [
            "301 303 305 307 309 311 313 315 317 319 321 323 325 327 329 331 333 335 337 339 341 343 345 347 349 351 353 355 357 359 361 363 365 367 369 371 373 375 377 379 381 383 385 387 389 391 393 395 397 399 401 403 405 407 409 411 413 415 417 419 421 423 425 427 429 431 433 435 437 439 441 443 445 447 449 451 453 455 457 459 461 463 465 467 469 471 473 475 477 479 481 483 485 487 489 491 493 495 497 499 "
          ]
        }
      ]
    },
    {
      "cell_type": "code",
      "source": [
        "# 4 Get two numbers from user and print their sum, difference, product and quotient after division\n",
        "def calculate(num1, num2):\n",
        "    sum = num1 + num2\n",
        "    difference = num1 - num2\n",
        "    product = num1 * num2\n",
        "    quotient = num1 / num2 if num2 != 0 else \"undefined\"\n",
        "    return sum, difference, product, quotient\n",
        "\n",
        "\n",
        "num1 = float(input(\"Enter the first number: \"))\n",
        "num2 = float(input(\"Enter the second number: \"))\n",
        "\n",
        "print(f'Sum: {calculate(num1, num2)[0]}')\n",
        "print(f'Difference: {calculate(num1, num2)[1]}')\n",
        "print(f'Product: {calculate(num1, num2)[2]}')\n",
        "print(f'Quotient: {calculate(num1, num2)[3]}')"
      ],
      "metadata": {
        "colab": {
          "base_uri": "https://localhost:8080/"
        },
        "id": "D9yfKUB9yR0s",
        "outputId": "35222ecc-dfd2-4a88-d392-ba6f89c9f8a2"
      },
      "execution_count": 17,
      "outputs": [
        {
          "output_type": "stream",
          "name": "stdout",
          "text": [
            "Enter the first number: 4\n",
            "Enter the second number: 2\n",
            "Sum: 6.0\n",
            "Difference: 2.0\n",
            "Product: 8.0\n",
            "Quotient: 2.0\n"
          ]
        }
      ]
    },
    {
      "cell_type": "code",
      "source": [
        "#5 Write a python function to find the product of 2 numbers.\n",
        "def product (num1, num2):\n",
        "    return num1 * num2"
      ],
      "metadata": {
        "id": "zUeyehLbyzQ4"
      },
      "execution_count": 18,
      "outputs": []
    },
    {
      "cell_type": "code",
      "source": [
        "product(45, 63 )"
      ],
      "metadata": {
        "colab": {
          "base_uri": "https://localhost:8080/"
        },
        "id": "GbqgzziZ0ixt",
        "outputId": "9b27fa9a-c14f-400b-85a1-3fb1638d5027"
      },
      "execution_count": 20,
      "outputs": [
        {
          "output_type": "execute_result",
          "data": {
            "text/plain": [
              "2835"
            ]
          },
          "metadata": {},
          "execution_count": 20
        }
      ]
    }
  ]
}