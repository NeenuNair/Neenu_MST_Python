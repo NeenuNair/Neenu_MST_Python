{
  "nbformat": 4,
  "nbformat_minor": 0,
  "metadata": {
    "colab": {
      "provenance": []
    },
    "kernelspec": {
      "name": "python3",
      "display_name": "Python 3"
    },
    "language_info": {
      "name": "python"
    }
  },
  "cells": [
    {
      "cell_type": "code",
      "execution_count": 7,
      "metadata": {
        "id": "Sr2M2MqPwzj2"
      },
      "outputs": [],
      "source": [
        "# 1 Write a function that returns the middle value among three integers.Write code to test this function with different inputs.\n",
        "def find_middle(a, b, c):\n",
        "    \"\"\"\n",
        "    Returns the middle value among three integers.\n",
        "\n",
        "    Args:\n",
        "        a (int): First integer\n",
        "        b (int): Second integer\n",
        "        c (int): Third integer\n",
        "\n",
        "    Returns:\n",
        "        int: The middle value among the three integers\n",
        "    \"\"\"\n",
        "    return sorted([a, b, c])[1]\n",
        "\n",
        "def test_find_middle():\n",
        "    test_cases = [\n",
        "        (3, 1, 2, 2),\n",
        "        (10, 20, 15, 15),\n",
        "        (5, 5, 5, 5),\n",
        "        (-1, -5, -3, -3),\n",
        "        (0, 100, 50, 50),\n",
        "        (1, 3, 2, 2),\n",
        "        (7, 8, 6, 7),\n",
        "        (100, 200, 150, 150)\n",
        "    ]\n",
        "\n",
        "    for a, b, c, expected in test_cases:\n",
        "        try:\n",
        "            result = find_middle(a, b, c)\n",
        "            print(f\"find_middle({a}, {b}, {c}) = {result}\")\n",
        "        except Exception as error:\n",
        "            print(f\" {error}\")"
      ]
    },
    {
      "cell_type": "markdown",
      "source": [],
      "metadata": {
        "id": "O8CK5fF2w3oz"
      }
    },
    {
      "cell_type": "code",
      "source": [
        "test_find_middle()"
      ],
      "metadata": {
        "colab": {
          "base_uri": "https://localhost:8080/"
        },
        "id": "3QoaBsp3ycN2",
        "outputId": "a0247535-0303-4376-bd0a-e2d6056e4d64"
      },
      "execution_count": 8,
      "outputs": [
        {
          "output_type": "stream",
          "name": "stdout",
          "text": [
            "find_middle(3, 1, 2) = 2\n",
            "find_middle(10, 20, 15) = 15\n",
            "find_middle(5, 5, 5) = 5\n",
            "find_middle(-1, -5, -3) = -3\n",
            "find_middle(0, 100, 50) = 50\n",
            "find_middle(1, 3, 2) = 2\n",
            "find_middle(7, 8, 6) = 7\n",
            "find_middle(100, 200, 150) = 150\n"
          ]
        }
      ]
    },
    {
      "cell_type": "code",
      "source": [
        "# 2 Build a calculator in Python using functions\n",
        "def add(x, y):\n",
        "    return x + y\n",
        "\n",
        "def subtract(x, y):\n",
        "    return x - y\n",
        "\n",
        "def multiply(x, y):\n",
        "    return x * y\n",
        "\n",
        "def divide(x, y):\n",
        "    if y == 0:\n",
        "        raise ValueError(\"Cannot divide by zero\")\n",
        "    return x / y\n",
        "\n",
        "def calculator():\n",
        "    print(\"Select operation:\")\n",
        "    print(\"1. Add\")\n",
        "    print(\"2. Subtract\")\n",
        "    print(\"3. Multiply\")\n",
        "    print(\"4. Divide\")\n",
        "    print(\"5. Exit\")\n",
        "\n",
        "    while True:\n",
        "        choice = input(\"Enter choice (1/2/3/4/5): \")\n",
        "\n",
        "        if choice == '5':\n",
        "            print(\"Exiting calculator.\")\n",
        "            break\n",
        "\n",
        "        # Validate choice\n",
        "        if choice not in ['1', '2', '3', '4']:\n",
        "            print(\"Invalid choice. Please select a valid option.\")\n",
        "            continue\n",
        "\n",
        "        try:\n",
        "            num1 = float(input(\"Enter first number: \"))\n",
        "            num2 = float(input(\"Enter second number: \"))\n",
        "\n",
        "            if choice == '1':\n",
        "                print(f\"The result is: {add(num1, num2)}\")\n",
        "            elif choice == '2':\n",
        "                print(f\"The result is: {subtract(num1, num2)}\")\n",
        "            elif choice == '3':\n",
        "                print(f\"The result is: {multiply(num1, num2)}\")\n",
        "            elif choice == '4':\n",
        "                try:\n",
        "                    print(f\"The result is: {divide(num1, num2)}\")\n",
        "                except ValueError as e:\n",
        "                    print(e)\n",
        "\n",
        "        except ValueError:\n",
        "            print(\"Invalid input\")\n"
      ],
      "metadata": {
        "id": "W5kg0vurzwki"
      },
      "execution_count": 12,
      "outputs": []
    },
    {
      "cell_type": "code",
      "source": [
        "calculator()\n"
      ],
      "metadata": {
        "colab": {
          "base_uri": "https://localhost:8080/"
        },
        "id": "obkdZW8ozylV",
        "outputId": "3698f62c-28e5-4551-b5d6-f320a9de0629"
      },
      "execution_count": 13,
      "outputs": [
        {
          "output_type": "stream",
          "name": "stdout",
          "text": [
            "Select operation:\n",
            "1. Add\n",
            "2. Subtract\n",
            "3. Multiply\n",
            "4. Divide\n",
            "5. Exit\n",
            "Enter choice (1/2/3/4/5): 1\n",
            "Enter first number: 10\n",
            "Enter second number: 20\n",
            "The result is: 30.0\n",
            "Enter choice (1/2/3/4/5): 2\n",
            "Enter first number: 10\n",
            "Enter second number: 20\n",
            "The result is: -10.0\n",
            "Enter choice (1/2/3/4/5): 5\n",
            "Exiting calculator.\n"
          ]
        }
      ]
    },
    {
      "cell_type": "code",
      "source": [
        "# 3 Write a function that takes the lengths of the two shorter sides of a right triangle as its parameters.\n",
        "#  Return the hypotenuse of the triangle, computed using Pythagorean theorem, as the function’s result.\n",
        "from math import sqrt\n",
        "def hypotenuse():\n",
        "  print(\"Input lengths of shorter triangle sides:\")\n",
        "  a = float(input(\"a: \"))\n",
        "  b = float(input(\"b: \"))\n",
        "  c = sqrt(a**2 + b**2)\n",
        "  print(\"The length of the hypotenuse is:\", c)\n"
      ],
      "metadata": {
        "id": "N1q93mcA1ncJ"
      },
      "execution_count": 16,
      "outputs": []
    },
    {
      "cell_type": "code",
      "source": [
        "hypotenuse()"
      ],
      "metadata": {
        "colab": {
          "base_uri": "https://localhost:8080/"
        },
        "id": "pddYhixU3VQ8",
        "outputId": "38f74b2d-a83a-41d0-8897-7921fa5ed557"
      },
      "execution_count": 18,
      "outputs": [
        {
          "output_type": "stream",
          "name": "stdout",
          "text": [
            "Input lengths of shorter triangle sides:\n",
            "a: 3\n",
            "b: 4\n",
            "The length of the hypotenuse is: 5.0\n"
          ]
        }
      ]
    },
    {
      "cell_type": "code",
      "source": [
        "# 4 The Rectangle problem\n",
        "# (a) Write a Rectangle class in Python language, allowing you to build a rectangle with\n",
        "# length and width attributes.\n",
        "# (b) Create a Perimeter() method to calculate the perimeter of the rectangle and a Area()\n",
        "# method to calculate the area of the rectangle.\n",
        "# (c) Create a method display() that display the length, width, perimeter and area of an\n",
        "# object created using an instantiation on rectangle class.\n",
        "\n",
        "class Rectangle:\n",
        "    def __init__(self, length, width):\n",
        "        self.length = length\n",
        "        self.width = width\n",
        "\n",
        "    def perimeter(self):\n",
        "        return 2 * (self.length + self.width)\n",
        "\n",
        "    def area(self):\n",
        "        return self.length * self.width\n",
        "\n",
        "    def display(self):\n",
        "        print(f\"Length: {self.length}\")\n",
        "        print(f\"Width: {self.width}\")\n",
        "        print(f\"Perimeter: {self.perimeter()}\")\n",
        "        print(f\"Area: {self.area()}\")\n",
        "\n"
      ],
      "metadata": {
        "id": "mAgwybMD3p8R"
      },
      "execution_count": 19,
      "outputs": []
    },
    {
      "cell_type": "code",
      "source": [
        "\n",
        "length = float(input(\"Enter the length of the rectangle: \"))\n",
        "width = float(input(\"Enter the width of the rectangle: \"))\n",
        "\n",
        "Rectangle = Rectangle(length, width)\n",
        "Rectangle.display()\n"
      ],
      "metadata": {
        "colab": {
          "base_uri": "https://localhost:8080/"
        },
        "id": "qPwH5pWM4_Ww",
        "outputId": "6e6f6f75-0ffa-4dc9-c6c3-77db23801d7e"
      },
      "execution_count": 27,
      "outputs": [
        {
          "output_type": "stream",
          "name": "stdout",
          "text": [
            "Enter the length of the rectangle: 4\n",
            "Enter the width of the rectangle: 5\n",
            "Length: 4.0\n",
            "Width: 5.0\n",
            "Perimeter: 18.0\n",
            "Area: 20.0\n"
          ]
        }
      ]
    },
    {
      "cell_type": "code",
      "source": [
        "# 5. The Bank Account problem\n",
        "# (a) Create a Python class called BankAccount which represents a bank account, having as attributes: accountNumber (numeric type), name (name of the account owner as\n",
        "# string type), balance.\n",
        "# (b) Create a constructor with parameters: accountNumber, name, balance.\n",
        "# (c) Create a Deposit() method which manages the deposit actions.\n",
        "# (d) Create a Withdrawal() method which manages withdrawals actions.\n",
        "# (e) Create an bankFees() method to apply the bank fees with a percentage of 5% of the\n",
        "# balance account.\n",
        "# (f) Create a display() method to display account details."
      ],
      "metadata": {
        "id": "sF06DGpL58r5"
      },
      "execution_count": null,
      "outputs": []
    },
    {
      "cell_type": "code",
      "source": [
        "class BankAccount:\n",
        "    def __init__(self, accountNumber, name, balance):\n",
        "        self.accountNumber = accountNumber\n",
        "        self.name = name\n",
        "        self.balance = balance\n",
        "\n",
        "    def Deposit(self, amount):\n",
        "        if amount > 0:\n",
        "            self.balance += amount\n",
        "            print(f\"Deposited: {amount}\")\n",
        "        else:\n",
        "            print(\"Deposit amount should be positive.\")\n",
        "\n",
        "    def Withdrawal(self, amount):\n",
        "        if amount > 0 and amount <= self.balance:\n",
        "            self.balance -= amount\n",
        "            print(f\"Withdrew: {amount}\")\n",
        "        elif amount > self.balance:\n",
        "            print(\"Insufficient funds.\")\n",
        "        else:\n",
        "            print(\"Withdrawal amount should be positive.\")\n",
        "\n",
        "    def bankFees(self):\n",
        "        fee = self.balance * 0.05\n",
        "        self.balance -= fee\n",
        "        print(f\"Bank fees of 5% applied: {fee}\")\n",
        "\n",
        "    def display(self):\n",
        "        print(f\"Account Number: {self.accountNumber}\")\n",
        "        print(f\"Account Holder: {self.name}\")\n",
        "        print(f\"Balance: {self.balance}\")\n",
        "\n"
      ],
      "metadata": {
        "id": "7g918vGB6VlR"
      },
      "execution_count": 28,
      "outputs": []
    },
    {
      "cell_type": "code",
      "source": [
        "\n",
        "account = BankAccount(12345, \"Neenu\", 1000.0)\n",
        "account.display()\n",
        "\n",
        "account.Deposit(500)\n",
        "\n",
        "account.Withdrawal(200)\n",
        "\n",
        "account.bankFees()\n",
        "\n",
        "account.display()\n"
      ],
      "metadata": {
        "colab": {
          "base_uri": "https://localhost:8080/"
        },
        "id": "Tcr2qcD16mXI",
        "outputId": "efcc6d27-c1ae-49dd-d97a-90a9ad8a376c"
      },
      "execution_count": 29,
      "outputs": [
        {
          "output_type": "stream",
          "name": "stdout",
          "text": [
            "Account Number: 12345\n",
            "Account Holder: Neenu\n",
            "Balance: 1000.0\n",
            "Deposited: 500\n",
            "Withdrew: 200\n",
            "Bank fees of 5% applied: 65.0\n",
            "Account Number: 12345\n",
            "Account Holder: Neenu\n",
            "Balance: 1235.0\n"
          ]
        }
      ]
    }
  ]
}